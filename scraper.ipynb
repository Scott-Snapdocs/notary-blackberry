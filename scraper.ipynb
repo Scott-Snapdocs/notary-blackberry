{
 "cells": [
  {
   "cell_type": "code",
   "execution_count": 1,
   "metadata": {
    "collapsed": true
   },
   "outputs": [],
   "source": [
    "import urllib\n",
    "from urllib.parse import urlparse, parse_qs\n",
    "from bs4 import BeautifulSoup\n",
    "from datetime import datetime"
   ]
  },
  {
   "cell_type": "code",
   "execution_count": 136,
   "metadata": {
    "collapsed": true
   },
   "outputs": [],
   "source": [
    "#a random thread starter\n",
    "#url = 'https://www.notaryrotary.com/forums/forums.asp?id=&forumid=1AAA00000003&messageid=2081512&code=&smsg=&requestid=&action=view&format=threaded'\n",
    "url = 'https://www.notaryrotary.com/forums/forums.asp?id=&forumid=1AAA00000003&messageid=2081526&code=&smsg=&requestid=&action=view&format=threaded'"
   ]
  },
  {
   "cell_type": "code",
   "execution_count": 128,
   "metadata": {
    "collapsed": true
   },
   "outputs": [],
   "source": [
    "#process the URL and turn it into soup\n",
    "def make_soup(my_url):\n",
    "    req = urllib.request.Request(my_url)\n",
    "    response = urllib.request.urlopen(req)\n",
    "    thePage = response.read()\n",
    "    return BeautifulSoup(thePage, 'lxml')"
   ]
  },
  {
   "cell_type": "code",
   "execution_count": 134,
   "metadata": {
    "collapsed": false
   },
   "outputs": [],
   "source": [
    "'''grab post data'''\n",
    "\n",
    "def grab_post(my_url, my_soup):\n",
    "    #get forum_id\n",
    "    parsed_url = urlparse(my_url)\n",
    "    query = parse_qs(parsed_url.query)\n",
    "    my_forum_id = query['forumid'][0]\n",
    "    my_message_id = int(query['messageid'][0])\n",
    "\n",
    "    #get title\n",
    "    my_title = my_soup.find('title').get_text()\n",
    "\n",
    "    #get content\n",
    "    my_content = my_soup.find(class_ = 'ForumText').get_text()\n",
    "\n",
    "    #get author.  There are multiple <b>, but the first is the author\n",
    "    my_author = my_soup.find('b').get_text()\n",
    "\n",
    "    #get timestamp\n",
    "    my_time = my_soup.find('em').get_text()\n",
    "    my_time = my_time.strip(' ')\n",
    "    my_time_real = datetime.strptime(my_time, '%m/%d/%y %I:%M%p')\n",
    "    my_time = datetime.strftime(my_time_real, '%Y-%m-%d %H:%M:00')\n",
    "\n",
    "    print(my_forum_id + ' - ' + str(my_message_id))\n",
    "    print(my_title + ' - ' + my_author + ' - ' + my_time)\n",
    "    print(my_content)"
   ]
  },
  {
   "cell_type": "code",
   "execution_count": 130,
   "metadata": {
    "collapsed": false
   },
   "outputs": [],
   "source": [
    "'''direct children only, no grandchildre'''\n",
    "def list_children(my_soup):\n",
    "\n",
    "    #TDAlt9 is unique for the messages table, specifically a cell in it\n",
    "    t = my_soup.find(class_ = 'TDAlt9')\n",
    "    thread_table = t.parent.parent\n",
    "    for r in thread_table.find_all('tr'):\n",
    "        i = r.find('img')\n",
    "        try:   #first row has no image\n",
    "            if (i['src'] == '/images/sp1.gif'):   #children are sp1, grandchildren sp2, etc\n",
    "                ra = r.find('a', class_='A2')     #profiles have links, but not A2 class\n",
    "                rah = ra['href']\n",
    "                parsed_rah = urlparse(rah)\n",
    "                rah_query = parse_qs(parsed_rah.query)\n",
    "                print(rah_query['forumid'], rah_query['messageid'])\n",
    "        except:\n",
    "            continue"
   ]
  },
  {
   "cell_type": "code",
   "execution_count": 137,
   "metadata": {
    "collapsed": false
   },
   "outputs": [
    {
     "name": "stdout",
     "output_type": "stream",
     "text": [
      "soup made\n",
      "\n",
      "vvvv Post data vvvvv\n",
      "1AAA00000003 - 2081526\n",
      "Sorry for the typos... n/m - MikeC/TX - 2017-05-25 16:27:00\n",
      "\n",
      "\n",
      "vvvv Post children vvvvv\n",
      "['1AAA00000003'] ['2081515']\n",
      "['1AAA00000003'] ['2081518']\n",
      "['1AAA00000003'] ['2081524']\n",
      "['1AAA00000003'] ['2081540']\n",
      "['1AAA00000003'] ['2081544']\n",
      "['1AAA00000003'] ['2081603']\n"
     ]
    }
   ],
   "source": [
    "soup = make_soup(url)\n",
    "print('soup made')\n",
    "print('')\n",
    "print('vvvv Post data vvvvv')\n",
    "grab_post(url, soup)\n",
    "print('')\n",
    "print('vvvv Post children vvvvv')\n",
    "list_children(soup)"
   ]
  },
  {
   "cell_type": "markdown",
   "metadata": {},
   "source": [
    "# Scratch"
   ]
  },
  {
   "cell_type": "code",
   "execution_count": 12,
   "metadata": {
    "collapsed": true
   },
   "outputs": [],
   "source": [
    "class Post:\n",
    "    def __init__(self, forum_id, message_id):\n",
    "        self.forum_id = name\n",
    "        self.tricks = []    # creates a new empty list for each dog\n",
    "\n",
    "    def add_trick(self, trick):\n",
    "        self.tricks.append(trick)"
   ]
  },
  {
   "cell_type": "code",
   "execution_count": 16,
   "metadata": {
    "collapsed": false
   },
   "outputs": [
    {
     "data": {
      "text/plain": [
       "<html><head><meta content=\"no-cache\" http-equiv=\"Pragma\"/>\n",
       "<meta content=\"-1\" http-equiv=\"Expires\"/>\n",
       "<title>PDF files scanned are too large to send in emails. How can..</title><meta content=\"no-cache\" http-equiv=\"Pragma\"/><meta content=\"-1\" http-equiv=\"Expires\"/><meta content=\"Notary Rotary, Inc.\" name=\"author\"/><meta content=\"© 2002-2017, Notary Rotary, Inc.\" name=\"copyright\"/><meta content=\"Business and Economy\" name=\"classification\"/><meta content=\"General\" name=\"rating\"/><meta content=\"15 days\" name=\"Revisit-After\"/><meta content=\"PDF files scanned are too large to send in emails. How can..\" name=\"description\"/><meta content=\"PDF files scanned are too large to send in emails. How can..\" name=\"keywords\"/><meta content=\"English\" http-equiv=\"Content-Language\"/><meta content=\"document\" name=\"resource-type\"/><meta content=\"2UIYLRAXt4l-90dMVvdHqr-xHQYCwROur90xV5afAaE\" name=\"google-site-verification\"/><link href=\"/include/body.css\" rel=\"stylesheet\" type=\"text/css\"/><script type=\"text/javascript\"> var _gaq = _gaq || []; _gaq.push(['_setAccount', 'UA-38742686-1']); _gaq.push(['_trackPageview']); (function () {  var ga = document.createElement('script'); ga.type = 'text/javascript'; ga.async = true;  ga.src = ('https:' == document.location.protocol ? 'https://ssl' : 'http://www') + '.google-analytics.com/ga.js';  var s = document.getElementsByTagName('script')[0]; s.parentNode.insertBefore(ga, s);  })();</script></head><body bgcolor=\"#FFFFFF\" leftmargin=\"0\" marginheight=\"0\" marginwidth=\"0\" topmargin=\"0\"><table border=\"0\" cellpadding=\"0\" cellspacing=\"0\" width=\"100%\"> <tr valign=\"top\"><td nowrap=\"nowrap\" valign=\"top\" width=\"100px\"><table border=\"0\" cellpadding=\"0\" cellspacing=\"0\" width=\"100%\"><tr><td><img src=\"/images/bb_V60px_Trans_Spacer.png\"/></td></tr><tr><td class=\"TabBackground\"><img src=\"/images/bb_V34px_Trans_Spacer.png\"/></td></tr></table></td> <td> <table border=\"0\" cellpadding=\"0\" cellspacing=\"0\" width=\"100%\"><tr valign=\"top\"><td align=\"left\"><table border=\"0\" cellpadding=\"0\" cellspacing=\"0\" width=\"800px\"> <tr valign=\"middle\"><td rowspan=\"2\"><img src=\"/images/bb_V60px_Trans_Spacer.png\"/></td><td align=\"right\" width=\"100%\"><p align=\"right\"><a href=\"/join.asp\"><font color=\"#336699\">Join</font></a>  |  <a href=\"/login.asp\"><font color=\"#336699\">Login</font></a><font color=\"#336699\">  |  </font><a href=\"/store/displaycart.asp?id=\"><img border=\"0\" src=\"/images/Shopping-Cart.png\"/></a> <a href=\"/store/displaycart.asp?id=\"><font color=\"#336699\"> Cart</font></a>    </p></td></tr> <tr valign=\"top\"><td align=\"left\" colspan=\"3\" valign=\"top\"><a href=\"/default.asp\"><img alt=\"Notary Rotary\" border=\"0\" src=\"/images/bb_Notary_Rotary.png\"/></a></td></tr></table><table border=\"0\" cellpadding=\"0\" cellspacing=\"0\" class=\"Menu\" width=\"100%\"> <tr> <td><a href=\"/default.asp\"><img alt=\"Welcome to Notary Rotary\" border=\"0\" src=\"/images/tabs/bb_Welcome.png\"/></a></td> <td><a href=\"/agent/find_a_notary.asp\"><img alt=\"Find a Notary\" border=\"0\" src=\"/images/tabs/bb_Find_a_Notary.png\"/></a></td> <td><a href=\"/forums/forums.asp?id=&amp;forumid=1AAA00000003&amp;action=list&amp;format=threaded\"><img alt=\"Notary Forum\" border=\"0\" src=\"/images/tabs/bb_Forum.png\"/></a></td> <td><a href=\"/101/default.asp\"><img alt=\"Become a Notary and Find Notary Classes\" border=\"0\" src=\"/images/tabs/bb_Notary_Education.png\"/></a></td> <td><a href=\"/insurance/notary_insurance.asp\"><img alt=\"Notary Insurance\" border=\"0\" src=\"/images/tabs/bb_Notary_Insurance.png\"/></a></td> <td><a href=\"/store/notary_supplies.asp\"><img alt=\"Notary Supplies\" border=\"0\" src=\"/images/tabs/bb_Notary_Supplies.png\"/></a></td> <td><a href=\"/library/resources.asp\"><img alt=\"Notary Resources\" border=\"0\" src=\"/images/tabs/bb_Notary_Resources.png\"/></a></td> <td bgcolor=\"#000000\" class=\"TabBackground\" nowrap=\"nowrap\" width=\"90%\"> </td> </tr> <tr><td colspan=\"7\" nowrap=\"nowrap\"> </td></tr></table><table border=\"0\" cellpadding=\"0\" cellspacing=\"0\" width=\"800px\"> <tr valign=\"top\"><td align=\"left\" bgcolor=\"#FFFFFF\"><table border=\"0\" cellpadding=\"2\" cellspacing=\"0\" width=\"780\"><tr valign=\"top\"><td class=\"TextTitle\"><img src=\"images/f-nw-a.gif\"/><a href=\"forums.asp?id=&amp;forumid=1AAA00000008&amp;action=list&amp;format=threaded\"><img alt=\"Just Politics\" border=\"0\" src=\"images/f-jp-d.gif\"/></a><a href=\"forums.asp?id=&amp;forumid=1AAA00000009&amp;action=list&amp;format=threaded\"><img alt=\"Leisure\" border=\"0\" src=\"images/f-l-d.gif\"/></a></td></tr><tr valign=\"bottom\"><td class=\"TextSubTitle\">Welcome to the Notary Talk General Discussion Forum.  Before posting, please read the <a href=\"/viewtext.asp?displaytype=forumicons\" target=\"_blank\"><img border=\"0\" src=\"/images/imgTheRules.gif\"/></a></td></tr></table><br/><br/><table border=\"0\" cellpadding=\"4\" cellspacing=\"0\" width=\"680\"><tr><td colspan=\"2\"><span class=\"TextParagraphHeader2\"><font size=\"3\">PDF files scanned are too large to send in emails. How can..</font></span></td></tr><tr valign=\"top\"><td>Posted by <font color=\"#333333\" size=\"2\"><b>Susan/CA</b></font> of CA on <font color=\"#333333\"><em>5/25/17 3:09pm  </em></font></td><td align=\"right\"><font color=\"#999999\" size=\"-2\">Msg #575667</font><br/></td></tr></table><table border=\"0\" cellpadding=\"2\" cellspacing=\"0\" class=\"ForumTextBox\" width=\"680\"><tr><td class=\"ForumText\" colspan=\"2\">I recently invested in a scanner/all in one because I have been getting a lot of full package scan back requests the past several months. I was faxing before. However, when I scan a set of documents (I have also tried breaking up the package into 2 or 3 sections then sending each pdf seperately) then try to email them (on AOL) each time it says the file is too large. How do you all get a large package sent? Is it an AOL issue or should I scan in a different format (JPEG etc.) or better yet how do I create a zip file or some other file so I can sent large scans?<br/><br/>Thank you sooooo much!!! </td></tr></table><input name=\"activityid\" type=\"hidden\" value=\"2081512\"/><table border=\"0\" cellpadding=\"3\" cellspacing=\"0\" width=\"100%\"><tr valign=\"bottom\"><td align=\"left\" class=\"TDAlt1\"><a href=\"/forums/forums.asp?id=&amp;forumid=1AAA00000003&amp;action=view&amp;format=threaded&amp;posn=prev&amp;firstnbr=575666&amp;lastnbr=575666\"><img alt=\"Prev\" border=\"0\" src=\"images/btnPrev_tb.gif\"/></a><a href=\"/forums/forums.asp?id=&amp;forumid=1AAA00000003&amp;action=view&amp;format=threaded&amp;posn=next&amp;firstnbr=575668&amp;lastnbr=575668\"><img alt=\"Next\" border=\"0\" src=\"images/btnNext_tb.gif\"/></a><a href=\"/forums/forums.asp?id=&amp;forumid=1AAA00000003&amp;action=list&amp;format=threaded&amp;posn=last\"><img alt=\"Return to General Discussion\" border=\"0\" src=\"images/btnBackToForum_tb.gif\"/></a>    <a href=\"/forums/forums.asp?id=&amp;forumid=1AAA00000003&amp;action=post&amp;format=threaded&amp;rid=56B80979BB0DCD5FBA469EAEFAB03008&amp;subject=Re%3A+PDF+files+scanned+are+too+large+to+send+in+emails%2E+How+can%2E%2E&amp;replytonbr=575667&amp;replytoid=2081512\"><img alt=\"Post a Public Reply to this Message\" border=\"0\" src=\"images/btnReplyInForum_tb.gif\"/></a><a href=\"/mc/new_message.asp?id=&amp;forumid=1AAA00000003&amp;messageid=2081512&amp;rtid=3&amp;x=notrot&amp;subject=PDF+files+scanned+are+too+large+to+send+in+emails%2E+How+can%2E%2E&amp;to=Susan%2FCA\" onclick=\"window.open('/mc/new_message.asp?id=&amp;forumid=1AAA00000003&amp;messageid=2081512&amp;rtid=3&amp;x=notrot&amp;subject=PDF+files+scanned+are+too+large+to+send+in+emails%2E+How+can%2E%2E&amp;to=Susan%2FCA', 'View', 'WIDTH=720,HEIGHT=580,toolbars=false,scrollbars=1');return false\" target=\"_blank\"><img alt=\"Send Author a Private Message\" border=\"0\" src=\"images/btnPrivateReply_tb.gif\"/></a></td></tr></table><br/><br/><table border=\"0\" cellpadding=\"1\" cellspacing=\"0\" width=\"100%\"><tr><td class=\"TDAlt9\" colspan=\"2\" nowrap=\"\">Messages in this Thread</td></tr><tr><td align=\"center\" nowrap=\"\"><img height=\"13\" src=\"/images/triangle.gif\" width=\"12\"/></td><td nowrap=\"\"><img src=\"/images/b0.gif\"/> <a class=\"A2\" href=\"/forums/forums.asp?id=&amp;forumid=1AAA00000003&amp;messageid=2081512&amp;code=&amp;smsg=&amp;requestid=&amp;action=view&amp;format=threaded\">PDF files scanned are too large to send in emails. How can..</a> - <font color=\"#333333\" size=\"2\"><b>Susan/CA</b></font><font color=\"#333333\"><em> on 5/25/17 3:09pm  </em></font></td></tr><tr><td align=\"center\" nowrap=\"\"></td><td nowrap=\"\"><img src=\"/images/sp1.gif\"/><img src=\"/images/b0.gif\"/> <a class=\"A2\" href=\"/forums/forums.asp?id=&amp;forumid=1AAA00000003&amp;messageid=2081515&amp;code=&amp;smsg=&amp;requestid=&amp;action=view&amp;format=threaded\">Re: PDF files scanned are too large to send in emails. How can..</a> - <font color=\"#333333\" size=\"2\"><b><img border=\"0\" height=\"10\" src=\"/images/lvl1.gif\" width=\"10\"/> <a class=\"TDAlt7\" href=\"/viewprofile.asp?id=&amp;RID=0116776F851A89E1D874EAD2F72255A4&amp;src=1243\">Negrete</a></b></font><font color=\"#333333\"><em> on 5/25/17 3:16pm  </em></font></td></tr><tr><td align=\"center\" nowrap=\"\"></td><td nowrap=\"\"><img src=\"/images/sp2.gif\"/><img src=\"/images/b0.gif\"/> <a class=\"A2\" href=\"/forums/forums.asp?id=&amp;forumid=1AAA00000003&amp;messageid=2081516&amp;code=&amp;smsg=&amp;requestid=&amp;action=view&amp;format=threaded\">scanner settings make all the difference for me</a> - <font color=\"#333333\" size=\"2\"><b><img border=\"0\" height=\"10\" src=\"/images/lvl1.gif\" width=\"10\"/> <a class=\"TDAlt7\" href=\"/viewprofile.asp?id=&amp;RID=56C0A659E3DCB605F8E746A5613EB5B7&amp;src=1243\">sigtogo/OR</a></b></font><font color=\"#333333\"><em> on 5/25/17 3:22pm  </em></font></td></tr><tr><td align=\"center\" nowrap=\"\"></td><td nowrap=\"\"><img src=\"/images/sp1.gif\"/><img src=\"/images/b0.gif\"/> <a class=\"A2\" href=\"/forums/forums.asp?id=&amp;forumid=1AAA00000003&amp;messageid=2081518&amp;code=&amp;smsg=&amp;requestid=&amp;action=view&amp;format=threaded\">Re: PDF files scanned are too large to send in emails. How can..</a> - <font color=\"#333333\" size=\"2\"><b>biglee/Ca</b></font><font color=\"#333333\"><em> on 5/25/17 3:24pm  </em></font></td></tr><tr><td align=\"center\" nowrap=\"\"></td><td nowrap=\"\"><img src=\"/images/sp2.gif\"/><img src=\"/images/b0.gif\"/> <a class=\"A2\" href=\"/forums/forums.asp?id=&amp;forumid=1AAA00000003&amp;messageid=2081522&amp;code=&amp;smsg=&amp;requestid=&amp;action=view&amp;format=threaded\">Re: PDF files scanned are too large to send in emails. How can..</a> - <font color=\"#333333\" size=\"2\"><b><img border=\"0\" height=\"10\" src=\"/images/lvl1.gif\" width=\"10\"/> <a class=\"TDAlt7\" href=\"/viewprofile.asp?id=&amp;RID=352A5307B26FF4DFC4377EDD61B6D356&amp;src=1243\">Yoli/CA</a></b></font><font color=\"#333333\"><em> on 5/25/17 3:52pm  </em></font></td></tr><tr><td align=\"center\" nowrap=\"\"></td><td nowrap=\"\"><img src=\"/images/sp1.gif\"/><img src=\"/images/b0.gif\"/> <a class=\"A2\" href=\"/forums/forums.asp?id=&amp;forumid=1AAA00000003&amp;messageid=2081524&amp;code=&amp;smsg=&amp;requestid=&amp;action=view&amp;format=threaded\">Re: PDF files scanned are too large to send in emails. How can..</a> - <font color=\"#333333\" size=\"2\"><b>MikeC/TX</b></font><font color=\"#333333\"><em> on 5/25/17 4:25pm  </em></font></td></tr><tr><td align=\"center\" nowrap=\"\"></td><td nowrap=\"\"><img src=\"/images/sp2.gif\"/><img src=\"/images/b0.gif\"/> <a class=\"A2\" href=\"/forums/forums.asp?id=&amp;forumid=1AAA00000003&amp;messageid=2081526&amp;code=&amp;smsg=&amp;requestid=&amp;action=view&amp;format=threaded\">Sorry for the typos... n/m</a> - <font color=\"#333333\" size=\"2\"><b>MikeC/TX</b></font><font color=\"#333333\"><em> on 5/25/17 4:27pm  </em></font></td></tr><tr><td align=\"center\" nowrap=\"\"></td><td nowrap=\"\"><img src=\"/images/sp1.gif\"/><img src=\"/images/b0.gif\"/> <a class=\"A2\" href=\"/forums/forums.asp?id=&amp;forumid=1AAA00000003&amp;messageid=2081540&amp;code=&amp;smsg=&amp;requestid=&amp;action=view&amp;format=threaded\">Re: PDF files scanned are too large to send in emails. How can..</a> - <font color=\"#333333\" size=\"2\"><b>Blueink_TN</b></font><font color=\"#333333\"><em> on 5/25/17 6:56pm  </em></font></td></tr><tr><td align=\"center\" nowrap=\"\"></td><td nowrap=\"\"><img src=\"/images/sp1.gif\"/><img src=\"/images/b0.gif\"/> <a class=\"A2\" href=\"/forums/forums.asp?id=&amp;forumid=1AAA00000003&amp;messageid=2081544&amp;code=&amp;smsg=&amp;requestid=&amp;action=view&amp;format=threaded\">Re: PDF files scanned are too large to send in emails. How can..</a> - <font color=\"#333333\" size=\"2\"><b>desktopfull</b></font><font color=\"#333333\"><em> on 5/25/17 7:28pm  </em></font></td></tr><tr><td align=\"center\" nowrap=\"\"></td><td nowrap=\"\"><img src=\"/images/sp2.gif\"/><img src=\"/images/b0.gif\"/> <a class=\"A2\" href=\"/forums/forums.asp?id=&amp;forumid=1AAA00000003&amp;messageid=2081553&amp;code=&amp;smsg=&amp;requestid=&amp;action=view&amp;format=threaded\">Re: PDF files scanned are too large to send in emails. How can..</a> - <font color=\"#333333\" size=\"2\"><b>Luckydog</b></font><font color=\"#333333\"><em> on 5/25/17 8:50pm  </em></font></td></tr><tr><td align=\"center\" nowrap=\"\"></td><td nowrap=\"\"><img src=\"/images/sp2.gif\"/><img src=\"/images/b0.gif\"/> <a class=\"A2\" href=\"/forums/forums.asp?id=&amp;forumid=1AAA00000003&amp;messageid=2081558&amp;code=&amp;smsg=&amp;requestid=&amp;action=view&amp;format=threaded\">Re: PDF files scanned are too large to send in emails. How can..</a> - <font color=\"#333333\" size=\"2\"><b>SteveS/CA</b></font><font color=\"#333333\"><em> on 5/25/17 9:21pm  </em></font></td></tr><tr><td align=\"center\" nowrap=\"\"></td><td nowrap=\"\"><img src=\"/images/sp3.gif\"/><img src=\"/images/b0.gif\"/> <a class=\"A2\" href=\"/forums/forums.asp?id=&amp;forumid=1AAA00000003&amp;messageid=2081572&amp;code=&amp;smsg=&amp;requestid=&amp;action=view&amp;format=threaded\">Re: PDF files scanned are too large to send in emails. How can..</a> - <font color=\"#333333\" size=\"2\"><b>desktopfull</b></font><font color=\"#333333\"><em> on 5/26/17 12:48am </em></font></td></tr><tr><td align=\"center\" nowrap=\"\"></td><td nowrap=\"\"><img src=\"/images/sp4.gif\"/><img src=\"/images/b0.gif\"/> <a class=\"A2\" href=\"/forums/forums.asp?id=&amp;forumid=1AAA00000003&amp;messageid=2081595&amp;code=&amp;smsg=&amp;requestid=&amp;action=view&amp;format=threaded\">Re: PDF files scanned are too large to send in emails. How can..</a> - <font color=\"#333333\" size=\"2\"><b>Luckydog</b></font><font color=\"#333333\"><em> on 5/26/17 9:46am  </em></font></td></tr></table><br/><br/>\n",
       "<br/>\n",
       "<table cellpadding=\"0\" cellspacing=\"0\" width=\"100%\">\n",
       "<tr align=\"left\"><td> </td></tr>\n",
       "<tr>\n",
       "<td align=\"center\" class=\"TDAlt1\">\n",
       "<a class=\"TextFooterLink\" href=\"/agent/find_a_notary.asp\">Find a Notary</a>  \n",
       "\t\t   <a class=\"TextFooterLink\" href=\"/store/notary_supplies.asp\">Notary Supplies</a>  \n",
       "\t\t   <a class=\"TextFooterLink\" href=\"/termsofuse.asp\">Terms</a>  \n",
       "\t\t   <a class=\"TextFooterLink\" href=\"/privacystatement.asp\">Privacy Statement</a>  \n",
       "\t\t   <a class=\"TextFooterLink\" href=\"/faq.asp\">Help/FAQ</a>  \n",
       "\t\t   <a class=\"TextFooterLink\" href=\"/about.asp\">About</a>     \n",
       "\t\t   <a class=\"TextFooterLink\" href=\"/contactus.asp\">Contact Us</a>  \n",
       "\t\t   <a class=\"TextFooterLink\" href=\"/archive/index.asp\">Archive</a>  \n",
       "         <a class=\"TextFooterLink\" href=\"http://www.nriis.com\" target=\"_blank\">NRI Insurance Services</a>\n",
       "</td>\n",
       "</tr>\n",
       "<tr align=\"center\"><td> </td></tr>\n",
       "<tr><td align=\"center\" class=\"TextFooter\"><font color=\"#696969\">Notary Rotary® is a trademark of Notary Rotary, Inc. Copyright © 2002-2017, Notary Rotary, Inc.  All rights reserved.<br/>500 New York Ave, Des Moines, IA 50313.</font></td></tr>\n",
       "<tr align=\"left\"><td></td></tr>\n",
       "</table>\n",
       "</td></tr></table>\n",
       "</td></tr></table></td><td></td></tr></table>\n",
       "<meta content=\"no-cache\" http-equiv=\"Pragma\"/>\n",
       "<meta content=\"-1\" http-equiv=\"Expires\"/>\n",
       "</body></html>"
      ]
     },
     "execution_count": 16,
     "metadata": {},
     "output_type": "execute_result"
    }
   ],
   "source": [
    "soup"
   ]
  },
  {
   "cell_type": "code",
   "execution_count": 19,
   "metadata": {
    "collapsed": false
   },
   "outputs": [],
   "source": []
  },
  {
   "cell_type": "code",
   "execution_count": 26,
   "metadata": {
    "collapsed": false
   },
   "outputs": [],
   "source": []
  },
  {
   "cell_type": "code",
   "execution_count": 31,
   "metadata": {
    "collapsed": false
   },
   "outputs": [],
   "source": []
  },
  {
   "cell_type": "code",
   "execution_count": 48,
   "metadata": {
    "collapsed": false
   },
   "outputs": [],
   "source": []
  },
  {
   "cell_type": "code",
   "execution_count": 37,
   "metadata": {
    "collapsed": true
   },
   "outputs": [],
   "source": []
  },
  {
   "cell_type": "code",
   "execution_count": 116,
   "metadata": {
    "collapsed": false
   },
   "outputs": [
    {
     "name": "stdout",
     "output_type": "stream",
     "text": [
      "['1AAA00000003'] ['2081515']\n",
      "['1AAA00000003'] ['2081518']\n",
      "['1AAA00000003'] ['2081524']\n",
      "['1AAA00000003'] ['2081540']\n",
      "['1AAA00000003'] ['2081544']\n"
     ]
    }
   ],
   "source": []
  },
  {
   "cell_type": "code",
   "execution_count": 93,
   "metadata": {
    "collapsed": false
   },
   "outputs": [],
   "source": []
  },
  {
   "cell_type": "code",
   "execution_count": 74,
   "metadata": {
    "collapsed": false
   },
   "outputs": [],
   "source": []
  },
  {
   "cell_type": "code",
   "execution_count": 83,
   "metadata": {
    "collapsed": false
   },
   "outputs": [],
   "source": []
  },
  {
   "cell_type": "code",
   "execution_count": 110,
   "metadata": {
    "collapsed": false
   },
   "outputs": [
    {
     "name": "stdout",
     "output_type": "stream",
     "text": [
      "<tr><td align=\"center\" nowrap=\"\"><img height=\"13\" src=\"/images/triangle.gif\" width=\"12\"/></td><td nowrap=\"\"><img src=\"/images/b0.gif\"/> <a class=\"A2\" href=\"/forums/forums.asp?id=&amp;forumid=1AAA00000003&amp;messageid=2081512&amp;code=&amp;smsg=&amp;requestid=&amp;action=view&amp;format=threaded\">PDF files scanned are too large to send in emails. How can..</a> - <font color=\"#333333\" size=\"2\"><b>Susan/CA</b></font><font color=\"#333333\"><em> on 5/25/17 3:09pm  </em></font></td></tr>\n",
      "<tr><td align=\"center\" nowrap=\"\"></td><td nowrap=\"\"><img src=\"/images/sp1.gif\"/><img src=\"/images/b0.gif\"/> <a class=\"A2\" href=\"/forums/forums.asp?id=&amp;forumid=1AAA00000003&amp;messageid=2081515&amp;code=&amp;smsg=&amp;requestid=&amp;action=view&amp;format=threaded\">Re: PDF files scanned are too large to send in emails. How can..</a> - <font color=\"#333333\" size=\"2\"><b><img border=\"0\" height=\"10\" src=\"/images/lvl1.gif\" width=\"10\"/> <a class=\"TDAlt7\" href=\"/viewprofile.asp?id=&amp;RID=0116776F851A89E1D874EAD2F72255A4&amp;src=1243\">Negrete</a></b></font><font color=\"#333333\"><em> on 5/25/17 3:16pm  </em></font></td></tr>\n",
      "<tr><td align=\"center\" nowrap=\"\"></td><td nowrap=\"\"><img src=\"/images/sp2.gif\"/><img src=\"/images/b0.gif\"/> <a class=\"A2\" href=\"/forums/forums.asp?id=&amp;forumid=1AAA00000003&amp;messageid=2081516&amp;code=&amp;smsg=&amp;requestid=&amp;action=view&amp;format=threaded\">scanner settings make all the difference for me</a> - <font color=\"#333333\" size=\"2\"><b><img border=\"0\" height=\"10\" src=\"/images/lvl1.gif\" width=\"10\"/> <a class=\"TDAlt7\" href=\"/viewprofile.asp?id=&amp;RID=56C0A659E3DCB605F8E746A5613EB5B7&amp;src=1243\">sigtogo/OR</a></b></font><font color=\"#333333\"><em> on 5/25/17 3:22pm  </em></font></td></tr>\n",
      "<tr><td align=\"center\" nowrap=\"\"></td><td nowrap=\"\"><img src=\"/images/sp1.gif\"/><img src=\"/images/b0.gif\"/> <a class=\"A2\" href=\"/forums/forums.asp?id=&amp;forumid=1AAA00000003&amp;messageid=2081518&amp;code=&amp;smsg=&amp;requestid=&amp;action=view&amp;format=threaded\">Re: PDF files scanned are too large to send in emails. How can..</a> - <font color=\"#333333\" size=\"2\"><b>biglee/Ca</b></font><font color=\"#333333\"><em> on 5/25/17 3:24pm  </em></font></td></tr>\n",
      "<tr><td align=\"center\" nowrap=\"\"></td><td nowrap=\"\"><img src=\"/images/sp2.gif\"/><img src=\"/images/b0.gif\"/> <a class=\"A2\" href=\"/forums/forums.asp?id=&amp;forumid=1AAA00000003&amp;messageid=2081522&amp;code=&amp;smsg=&amp;requestid=&amp;action=view&amp;format=threaded\">Re: PDF files scanned are too large to send in emails. How can..</a> - <font color=\"#333333\" size=\"2\"><b><img border=\"0\" height=\"10\" src=\"/images/lvl1.gif\" width=\"10\"/> <a class=\"TDAlt7\" href=\"/viewprofile.asp?id=&amp;RID=352A5307B26FF4DFC4377EDD61B6D356&amp;src=1243\">Yoli/CA</a></b></font><font color=\"#333333\"><em> on 5/25/17 3:52pm  </em></font></td></tr>\n",
      "<tr><td align=\"center\" nowrap=\"\"></td><td nowrap=\"\"><img src=\"/images/sp1.gif\"/><img src=\"/images/b0.gif\"/> <a class=\"A2\" href=\"/forums/forums.asp?id=&amp;forumid=1AAA00000003&amp;messageid=2081524&amp;code=&amp;smsg=&amp;requestid=&amp;action=view&amp;format=threaded\">Re: PDF files scanned are too large to send in emails. How can..</a> - <font color=\"#333333\" size=\"2\"><b>MikeC/TX</b></font><font color=\"#333333\"><em> on 5/25/17 4:25pm  </em></font></td></tr>\n",
      "<tr><td align=\"center\" nowrap=\"\"></td><td nowrap=\"\"><img src=\"/images/sp2.gif\"/><img src=\"/images/b0.gif\"/> <a class=\"A2\" href=\"/forums/forums.asp?id=&amp;forumid=1AAA00000003&amp;messageid=2081526&amp;code=&amp;smsg=&amp;requestid=&amp;action=view&amp;format=threaded\">Sorry for the typos... n/m</a> - <font color=\"#333333\" size=\"2\"><b>MikeC/TX</b></font><font color=\"#333333\"><em> on 5/25/17 4:27pm  </em></font></td></tr>\n",
      "<tr><td align=\"center\" nowrap=\"\"></td><td nowrap=\"\"><img src=\"/images/sp1.gif\"/><img src=\"/images/b0.gif\"/> <a class=\"A2\" href=\"/forums/forums.asp?id=&amp;forumid=1AAA00000003&amp;messageid=2081540&amp;code=&amp;smsg=&amp;requestid=&amp;action=view&amp;format=threaded\">Re: PDF files scanned are too large to send in emails. How can..</a> - <font color=\"#333333\" size=\"2\"><b>Blueink_TN</b></font><font color=\"#333333\"><em> on 5/25/17 6:56pm  </em></font></td></tr>\n",
      "<tr><td align=\"center\" nowrap=\"\"></td><td nowrap=\"\"><img src=\"/images/sp1.gif\"/><img src=\"/images/b0.gif\"/> <a class=\"A2\" href=\"/forums/forums.asp?id=&amp;forumid=1AAA00000003&amp;messageid=2081544&amp;code=&amp;smsg=&amp;requestid=&amp;action=view&amp;format=threaded\">Re: PDF files scanned are too large to send in emails. How can..</a> - <font color=\"#333333\" size=\"2\"><b>desktopfull</b></font><font color=\"#333333\"><em> on 5/25/17 7:28pm  </em></font></td></tr>\n",
      "<tr><td align=\"center\" nowrap=\"\"></td><td nowrap=\"\"><img src=\"/images/sp2.gif\"/><img src=\"/images/b0.gif\"/> <a class=\"A2\" href=\"/forums/forums.asp?id=&amp;forumid=1AAA00000003&amp;messageid=2081553&amp;code=&amp;smsg=&amp;requestid=&amp;action=view&amp;format=threaded\">Re: PDF files scanned are too large to send in emails. How can..</a> - <font color=\"#333333\" size=\"2\"><b>Luckydog</b></font><font color=\"#333333\"><em> on 5/25/17 8:50pm  </em></font></td></tr>\n",
      "<tr><td align=\"center\" nowrap=\"\"></td><td nowrap=\"\"><img src=\"/images/sp2.gif\"/><img src=\"/images/b0.gif\"/> <a class=\"A2\" href=\"/forums/forums.asp?id=&amp;forumid=1AAA00000003&amp;messageid=2081558&amp;code=&amp;smsg=&amp;requestid=&amp;action=view&amp;format=threaded\">Re: PDF files scanned are too large to send in emails. How can..</a> - <font color=\"#333333\" size=\"2\"><b>SteveS/CA</b></font><font color=\"#333333\"><em> on 5/25/17 9:21pm  </em></font></td></tr>\n",
      "<tr><td align=\"center\" nowrap=\"\"></td><td nowrap=\"\"><img src=\"/images/sp3.gif\"/><img src=\"/images/b0.gif\"/> <a class=\"A2\" href=\"/forums/forums.asp?id=&amp;forumid=1AAA00000003&amp;messageid=2081572&amp;code=&amp;smsg=&amp;requestid=&amp;action=view&amp;format=threaded\">Re: PDF files scanned are too large to send in emails. How can..</a> - <font color=\"#333333\" size=\"2\"><b>desktopfull</b></font><font color=\"#333333\"><em> on 5/26/17 12:48am </em></font></td></tr>\n",
      "<tr><td align=\"center\" nowrap=\"\"></td><td nowrap=\"\"><img src=\"/images/sp4.gif\"/><img src=\"/images/b0.gif\"/> <a class=\"A2\" href=\"/forums/forums.asp?id=&amp;forumid=1AAA00000003&amp;messageid=2081595&amp;code=&amp;smsg=&amp;requestid=&amp;action=view&amp;format=threaded\">Re: PDF files scanned are too large to send in emails. How can..</a> - <font color=\"#333333\" size=\"2\"><b>Luckydog</b></font><font color=\"#333333\"><em> on 5/26/17 9:46am  </em></font></td></tr>\n"
     ]
    }
   ],
   "source": [
    "t = soup.find(class_ = 'TDAlt9')\n",
    "thread_table = t.parent.parent\n",
    "for r in thread_table.find_all('a', class_='A2'):\n",
    "    rh = r['href']\n",
    "    parsed_rh = urlparse(rh)\n",
    "    rh_query = parse_qs(parsed_rh.query)\n",
    "    print(rh_query['forumid'], rh_query['messageid'])"
   ]
  }
 ],
 "metadata": {
  "kernelspec": {
   "display_name": "Python 3",
   "language": "python",
   "name": "python3"
  },
  "language_info": {
   "codemirror_mode": {
    "name": "ipython",
    "version": 3
   },
   "file_extension": ".py",
   "mimetype": "text/x-python",
   "name": "python",
   "nbconvert_exporter": "python",
   "pygments_lexer": "ipython3",
   "version": "3.5.2"
  }
 },
 "nbformat": 4,
 "nbformat_minor": 2
}
